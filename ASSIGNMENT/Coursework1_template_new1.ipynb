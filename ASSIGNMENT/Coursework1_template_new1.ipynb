{
 "cells": [
  {
   "cell_type": "markdown",
   "metadata": {
    "id": "T5PuoTGxM25j"
   },
   "source": [
    "# Hotel Booking Cancallation Prediction"
   ]
  },
  {
   "cell_type": "markdown",
   "metadata": {
    "id": "0Q8SI3lyNoHH"
   },
   "source": [
    "**Load Data**\n",
    "\n",
    "Load Hotel_Booking/hotel_bookings.csv file provided on Brightspace."
   ]
  },
  {
   "cell_type": "code",
   "execution_count": null,
   "metadata": {
    "id": "fdv3RPXnOfvf"
   },
   "outputs": [],
   "source": [
    "# <<< Your code here >>>"
   ]
  },
  {
   "cell_type": "markdown",
   "metadata": {
    "id": "NauE96owM3sR"
   },
   "source": [
    "# 1. Data Pre-processing (25%)\n",
    "\n",
    "\n",
    "---\n",
    "\n",
    "\n",
    "\n",
    "\n"
   ]
  },
  {
   "cell_type": "markdown",
   "metadata": {
    "id": "HZLqyiLUOnrV"
   },
   "source": [
    "**Drop irrelevant columns**\n",
    "\n",
    "It will significantly reduce the time and effort you need to invest. As a general guideline, columns containing IDs, dates, or irrelevant information are typically considered redundant and offer little value for predictive analysis."
   ]
  },
  {
   "cell_type": "code",
   "execution_count": null,
   "metadata": {
    "id": "GSWv5wCDQyBM"
   },
   "outputs": [],
   "source": [
    "# <<< Your code here >>>"
   ]
  },
  {
   "cell_type": "markdown",
   "metadata": {
    "id": "uUImFV45PG4E"
   },
   "source": [
    "## 1.1 Missing Values (10%)\n",
    "\n",
    "Identify and handle missing values."
   ]
  },
  {
   "cell_type": "code",
   "execution_count": null,
   "metadata": {
    "id": "c4eXcreOQxTD"
   },
   "outputs": [],
   "source": [
    "# <<< Your code here >>>"
   ]
  },
  {
   "cell_type": "markdown",
   "metadata": {
    "id": "P_gLR3YnRTFf"
   },
   "source": [
    "## Unique values\n",
    "\n",
    "Find out unique values in columns. This will help you in identifying in-consistent data."
   ]
  },
  {
   "cell_type": "code",
   "execution_count": null,
   "metadata": {
    "id": "kprpK-8NQx0E"
   },
   "outputs": [],
   "source": [
    "# <<< Your code here >>>"
   ]
  },
  {
   "cell_type": "markdown",
   "metadata": {
    "id": "1Qiv5MThgpgM"
   },
   "source": [
    "## 1.2 Removing Inconsistent values and Outliers (10%)\n",
    "\n",
    "Detecting inconsistencies can be achieved through a variety of methods. Some can be identified by examining unique values within each column, while others may require a solid understanding of the problem domain. Since you might not be an expert in the hotel or hospitality industry, here are some helpful hints:\n",
    "\n",
    "Hints:\n",
    "\n",
    "1. Check for incomplete bookings, such as reservations with zero adults, babies, or children.\n",
    "2. Examine rows with zeros in both 'stays_in_weekend_nights' and 'stays_in_week_nights.'\n",
    "\n"
   ]
  },
  {
   "cell_type": "code",
   "execution_count": 1,
   "metadata": {
    "id": "qNukKr-XQzc7"
   },
   "outputs": [],
   "source": [
    "# <<< Your code here >>>"
   ]
  },
  {
   "cell_type": "markdown",
   "metadata": {
    "id": "1Qiv5MThgpgM"
   },
   "source": [
    "## 1.3 Column data type conversion (5%)\n",
    "\n",
    "All necessary columns should be correctly converted to appropriate data types.\n"
   ]
  },
  {
   "cell_type": "code",
   "execution_count": null,
   "metadata": {
    "id": "qNukKr-XQzc7"
   },
   "outputs": [],
   "source": [
    "# <<< Your code here >>>"
   ]
  },
  {
   "cell_type": "markdown",
   "metadata": {
    "id": "GKLLdSmuM3wJ"
   },
   "source": [
    "# 2. Exploratory Data Analysis (25%)\n",
    "\n",
    "\n",
    "---\n",
    "\n",
    "\n",
    "\n",
    "\n",
    "\n",
    "You've also been provided with examples of valuable insights that could be of interest to hotel management, including:\n",
    "\n",
    "* Calculating cancellation percentages for City and Resort hotels.\n",
    "* Identifying the most frequently ordered meal types.\n",
    "* Determining the number of returning guests.\n",
    "* Discovering the most booked room types.\n",
    "* Exploring correlations between room types and cancellations.\n",
    "\n",
    "\n",
    "Visualize these insights using three different types of visualizations covered in the practicals, such as:\n",
    "\n",
    "* Bar graphs\n",
    "* Pie charts\n",
    "* Line charts\n",
    "* Heatmaps"
   ]
  },
  {
   "cell_type": "markdown",
   "metadata": {},
   "source": [
    "## 2.1. Calculating cancellation percentages for City and Resort hotels."
   ]
  },
  {
   "cell_type": "code",
   "execution_count": null,
   "metadata": {
    "id": "CyBKkMrMQ088"
   },
   "outputs": [],
   "source": [
    "# <<< Your code here >>>"
   ]
  },
  {
   "cell_type": "markdown",
   "metadata": {},
   "source": [
    "## 2.2. Identifying the most frequently ordered meal types."
   ]
  },
  {
   "cell_type": "code",
   "execution_count": null,
   "metadata": {
    "id": "CyBKkMrMQ088"
   },
   "outputs": [],
   "source": [
    "# <<< Your code here >>>"
   ]
  },
  {
   "cell_type": "markdown",
   "metadata": {},
   "source": [
    "## 2.3. Determining the number of returning guests."
   ]
  },
  {
   "cell_type": "code",
   "execution_count": null,
   "metadata": {
    "id": "CyBKkMrMQ088"
   },
   "outputs": [],
   "source": [
    "# <<< Your code here >>>"
   ]
  },
  {
   "cell_type": "markdown",
   "metadata": {},
   "source": [
    "## 2.4. Discovering the most booked room types."
   ]
  },
  {
   "cell_type": "code",
   "execution_count": null,
   "metadata": {
    "id": "CyBKkMrMQ088"
   },
   "outputs": [],
   "source": [
    "# <<< Your code here >>>"
   ]
  },
  {
   "cell_type": "markdown",
   "metadata": {},
   "source": [
    "## 2.5. Exploring correlations between room types and cancellations."
   ]
  },
  {
   "cell_type": "code",
   "execution_count": null,
   "metadata": {
    "id": "CyBKkMrMQ088"
   },
   "outputs": [],
   "source": [
    "# <<< Your code here >>>"
   ]
  },
  {
   "cell_type": "markdown",
   "metadata": {
    "id": "o5SKAFmDM3z5"
   },
   "source": [
    "# 3. Feature Engineering (20%)\n",
    "\n",
    "\n",
    "---\n",
    "\n",
    "\n",
    "\n",
    "\n",
    "\n",
    "Apply various feature engineering techniques, covered in the lectures and practicals.\n",
    "\n",
    "Hint:\n",
    "* Binning\n",
    "* Encoding\n",
    "* Scaling\n",
    "* Feature selection"
   ]
  },
  {
   "cell_type": "markdown",
   "metadata": {},
   "source": [
    "## 3.1. Binning"
   ]
  },
  {
   "cell_type": "code",
   "execution_count": null,
   "metadata": {
    "id": "CyBKkMrMQ088"
   },
   "outputs": [],
   "source": [
    "# <<< Your code here >>>"
   ]
  },
  {
   "cell_type": "markdown",
   "metadata": {},
   "source": [
    "## 3.2. Encoding"
   ]
  },
  {
   "cell_type": "code",
   "execution_count": null,
   "metadata": {
    "id": "CyBKkMrMQ088"
   },
   "outputs": [],
   "source": [
    "# <<< Your code here >>>"
   ]
  },
  {
   "cell_type": "markdown",
   "metadata": {},
   "source": [
    "## 3.3. Scaling"
   ]
  },
  {
   "cell_type": "code",
   "execution_count": null,
   "metadata": {
    "id": "Gps2vXHySuBX"
   },
   "outputs": [],
   "source": [
    "# <<< Your code here >>>"
   ]
  },
  {
   "cell_type": "markdown",
   "metadata": {},
   "source": [
    "## 3.4. Feature selection"
   ]
  },
  {
   "cell_type": "code",
   "execution_count": null,
   "metadata": {
    "id": "CyBKkMrMQ088"
   },
   "outputs": [],
   "source": [
    "# <<< Your code here >>>"
   ]
  },
  {
   "cell_type": "markdown",
   "metadata": {
    "id": "P29DufVRM33h"
   },
   "source": [
    "# 4. Classifier Training (20%)\n",
    "\n",
    "\n",
    "---\n",
    "\n",
    "\n",
    "Utilise the sklearn Python library to train a ML model (e.g.decision tree classifier). Your process should start with splitting your dataset into input features (X) and a target feature (y). Next, divide the data into 70% training and 30% testing subsets. Train your model on the training dataset and evaluate using test dataset with appropriate metrics. Aim to achieve higher accuracy e.g. more than 70% accuracy using your model."
   ]
  },
  {
   "cell_type": "markdown",
   "metadata": {},
   "source": [
    "## 4.1. Data Splitting (5%)"
   ]
  },
  {
   "cell_type": "code",
   "execution_count": null,
   "metadata": {
    "id": "Gps2vXHySuBX"
   },
   "outputs": [],
   "source": [
    "# <<< Your code here >>>"
   ]
  },
  {
   "cell_type": "markdown",
   "metadata": {},
   "source": [
    "## 4.2. Model Training (10%)"
   ]
  },
  {
   "cell_type": "code",
   "execution_count": null,
   "metadata": {
    "id": "Gps2vXHySuBX"
   },
   "outputs": [],
   "source": [
    "# <<< Your code here >>>"
   ]
  },
  {
   "cell_type": "markdown",
   "metadata": {},
   "source": [
    "## 4.3. Model Evaluation (5%)"
   ]
  },
  {
   "cell_type": "code",
   "execution_count": null,
   "metadata": {
    "id": "tJS1HdmGSuY_"
   },
   "outputs": [],
   "source": [
    "# <<< Your code here >>>"
   ]
  },
  {
   "cell_type": "markdown",
   "metadata": {
    "id": "rBa3rsiSM365"
   },
   "source": [
    "# 5. Feature Importance (10%)\n",
    "\n",
    "\n",
    "---\n",
    "\n",
    "Assess the importance of features within your decision tree model. Provide commentary on the reliability of your model's results based on the feature importance scores."
   ]
  },
  {
   "cell_type": "code",
   "execution_count": null,
   "metadata": {
    "id": "y0P8oWvPUBX7"
   },
   "outputs": [],
   "source": [
    "# <<< Your code here >>>"
   ]
  }
 ],
 "metadata": {
  "colab": {
   "provenance": []
  },
  "kernelspec": {
   "display_name": "Python 3 (ipykernel)",
   "language": "python",
   "name": "python3"
  },
  "language_info": {
   "codemirror_mode": {
    "name": "ipython",
    "version": 3
   },
   "file_extension": ".py",
   "mimetype": "text/x-python",
   "name": "python",
   "nbconvert_exporter": "python",
   "pygments_lexer": "ipython3",
   "version": "3.11.5"
  }
 },
 "nbformat": 4,
 "nbformat_minor": 1
}
