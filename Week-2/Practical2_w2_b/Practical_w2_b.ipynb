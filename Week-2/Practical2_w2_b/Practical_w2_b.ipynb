{
 "cells": [
  {
   "cell_type": "markdown",
   "metadata": {},
   "source": [
    "Task 1"
   ]
  },
  {
   "cell_type": "code",
   "execution_count": 1,
   "metadata": {},
   "outputs": [],
   "source": [
    "import pandas as pd"
   ]
  },
  {
   "cell_type": "code",
   "execution_count": 123,
   "metadata": {},
   "outputs": [
    {
     "data": {
      "text/plain": [
       "(2512, 11)"
      ]
     },
     "execution_count": 123,
     "metadata": {},
     "output_type": "execute_result"
    }
   ],
   "source": [
    "# Fetch the data from the data file\n",
    "\n",
    "fully_df = pd.read_csv('online_store_customer_data.csv')\n",
    "\n",
    "shape = fully_df.shape\n",
    "shape\n"
   ]
  },
  {
   "cell_type": "code",
   "execution_count": 124,
   "metadata": {},
   "outputs": [
    {
     "data": {
      "text/html": [
       "<div>\n",
       "<style scoped>\n",
       "    .dataframe tbody tr th:only-of-type {\n",
       "        vertical-align: middle;\n",
       "    }\n",
       "\n",
       "    .dataframe tbody tr th {\n",
       "        vertical-align: top;\n",
       "    }\n",
       "\n",
       "    .dataframe thead th {\n",
       "        text-align: right;\n",
       "    }\n",
       "</style>\n",
       "<table border=\"1\" class=\"dataframe\">\n",
       "  <thead>\n",
       "    <tr style=\"text-align: right;\">\n",
       "      <th></th>\n",
       "      <th>Transaction_ID</th>\n",
       "      <th>Age</th>\n",
       "      <th>Referal</th>\n",
       "      <th>Amount_spent</th>\n",
       "    </tr>\n",
       "  </thead>\n",
       "  <tbody>\n",
       "    <tr>\n",
       "      <th>count</th>\n",
       "      <td>2512.000000</td>\n",
       "      <td>2470.000000</td>\n",
       "      <td>2357.000000</td>\n",
       "      <td>2270.000000</td>\n",
       "    </tr>\n",
       "    <tr>\n",
       "      <th>mean</th>\n",
       "      <td>152443.931131</td>\n",
       "      <td>46.637652</td>\n",
       "      <td>0.652100</td>\n",
       "      <td>1418.422577</td>\n",
       "    </tr>\n",
       "    <tr>\n",
       "      <th>std</th>\n",
       "      <td>724.580482</td>\n",
       "      <td>18.186277</td>\n",
       "      <td>0.476405</td>\n",
       "      <td>878.507451</td>\n",
       "    </tr>\n",
       "    <tr>\n",
       "      <th>min</th>\n",
       "      <td>151200.000000</td>\n",
       "      <td>15.000000</td>\n",
       "      <td>0.000000</td>\n",
       "      <td>2.090000</td>\n",
       "    </tr>\n",
       "    <tr>\n",
       "      <th>25%</th>\n",
       "      <td>151815.750000</td>\n",
       "      <td>32.000000</td>\n",
       "      <td>0.000000</td>\n",
       "      <td>678.192500</td>\n",
       "    </tr>\n",
       "    <tr>\n",
       "      <th>50%</th>\n",
       "      <td>152443.500000</td>\n",
       "      <td>47.000000</td>\n",
       "      <td>1.000000</td>\n",
       "      <td>1341.435000</td>\n",
       "    </tr>\n",
       "    <tr>\n",
       "      <th>75%</th>\n",
       "      <td>153071.250000</td>\n",
       "      <td>62.000000</td>\n",
       "      <td>1.000000</td>\n",
       "      <td>2038.102500</td>\n",
       "    </tr>\n",
       "    <tr>\n",
       "      <th>max</th>\n",
       "      <td>153699.000000</td>\n",
       "      <td>78.000000</td>\n",
       "      <td>1.000000</td>\n",
       "      <td>2999.980000</td>\n",
       "    </tr>\n",
       "  </tbody>\n",
       "</table>\n",
       "</div>"
      ],
      "text/plain": [
       "       Transaction_ID          Age      Referal  Amount_spent\n",
       "count     2512.000000  2470.000000  2357.000000   2270.000000\n",
       "mean    152443.931131    46.637652     0.652100   1418.422577\n",
       "std        724.580482    18.186277     0.476405    878.507451\n",
       "min     151200.000000    15.000000     0.000000      2.090000\n",
       "25%     151815.750000    32.000000     0.000000    678.192500\n",
       "50%     152443.500000    47.000000     1.000000   1341.435000\n",
       "75%     153071.250000    62.000000     1.000000   2038.102500\n",
       "max     153699.000000    78.000000     1.000000   2999.980000"
      ]
     },
     "execution_count": 124,
     "metadata": {},
     "output_type": "execute_result"
    }
   ],
   "source": [
    "#Full description \n",
    "\n",
    "df_description =  fully_df.describe()\n",
    "df_description"
   ]
  },
  {
   "cell_type": "code",
   "execution_count": 125,
   "metadata": {},
   "outputs": [
    {
     "name": "stdout",
     "output_type": "stream",
     "text": [
      "<class 'pandas.core.frame.DataFrame'>\n",
      "RangeIndex: 2512 entries, 0 to 2511\n",
      "Data columns (total 11 columns):\n",
      " #   Column            Non-Null Count  Dtype  \n",
      "---  ------            --------------  -----  \n",
      " 0   Transaction_date  2512 non-null   object \n",
      " 1   Transaction_ID    2512 non-null   int64  \n",
      " 2   Gender            2484 non-null   object \n",
      " 3   Age               2470 non-null   float64\n",
      " 4   Marital_status    2512 non-null   object \n",
      " 5   State_names       2512 non-null   object \n",
      " 6   Segment           2512 non-null   object \n",
      " 7   Employees_status  2486 non-null   object \n",
      " 8   Payment_method    2512 non-null   object \n",
      " 9   Referal           2357 non-null   float64\n",
      " 10  Amount_spent      2270 non-null   float64\n",
      "dtypes: float64(3), int64(1), object(7)\n",
      "memory usage: 216.0+ KB\n"
     ]
    }
   ],
   "source": [
    "# Finding colum and their data types in data base\n",
    "\n",
    "file_info = fully_df.info()\n",
    "file_info"
   ]
  },
  {
   "cell_type": "code",
   "execution_count": 126,
   "metadata": {},
   "outputs": [
    {
     "data": {
      "text/plain": [
       "Gender  Marital_status  Payment_method\n",
       "Female  Married         PayPal            359\n",
       "Male    Married         PayPal            303\n",
       "Female  Single          PayPal            255\n",
       "        Married         Card              243\n",
       "Male    Single          PayPal            239\n",
       "        Married         Card              193\n",
       "Female  Married         Other             186\n",
       "        Single          Card              186\n",
       "Male    Married         Other             172\n",
       "Female  Single          Other             127\n",
       "Male    Single          Card              117\n",
       "                        Other             104\n",
       "Name: count, dtype: int64"
      ]
     },
     "execution_count": 126,
     "metadata": {},
     "output_type": "execute_result"
    }
   ],
   "source": [
    "#Use function value_counts() to find out unique values and their frequency in columns Sex, Marital_status, and Payement_method.\n",
    "\n",
    "df_value = fully_df[['Gender' , 'Marital_status' , 'Payment_method']].value_counts()\n",
    "df_value\n",
    "\n"
   ]
  },
  {
   "cell_type": "markdown",
   "metadata": {},
   "source": [
    "    # Task 2: Find missing values in your dataset. \n",
    "\n",
    "• Use function isna() to find missing values. \n",
    "• Use function isnull() to find missing values. \n",
    "• What’s the difference between isna() and isnull()? Google it!!!"
   ]
  },
  {
   "cell_type": "code",
   "execution_count": 127,
   "metadata": {},
   "outputs": [
    {
     "data": {
      "text/plain": [
       "Transaction_date      0\n",
       "Transaction_ID        0\n",
       "Gender               28\n",
       "Age                  42\n",
       "Marital_status        0\n",
       "State_names           0\n",
       "Segment               0\n",
       "Employees_status     26\n",
       "Payment_method        0\n",
       "Referal             155\n",
       "Amount_spent        242\n",
       "dtype: int64"
      ]
     },
     "execution_count": 127,
     "metadata": {},
     "output_type": "execute_result"
    }
   ],
   "source": [
    "# using function insa to find missing values\n",
    "\n",
    "find_missing_values = fully_df.isna().sum()\n",
    "find_missing_values"
   ]
  },
  {
   "cell_type": "code",
   "execution_count": 128,
   "metadata": {},
   "outputs": [
    {
     "data": {
      "text/plain": [
       "Transaction_date      0\n",
       "Transaction_ID        0\n",
       "Gender               28\n",
       "Age                  42\n",
       "Marital_status        0\n",
       "State_names           0\n",
       "Segment               0\n",
       "Employees_status     26\n",
       "Payment_method        0\n",
       "Referal             155\n",
       "Amount_spent        242\n",
       "dtype: int64"
      ]
     },
     "execution_count": 128,
     "metadata": {},
     "output_type": "execute_result"
    }
   ],
   "source": [
    "# Use function isnull() to find missing values. \n",
    "\n",
    "find_missing_values_null = fully_df.isnull().sum()\n",
    "find_missing_values_null"
   ]
  },
  {
   "cell_type": "markdown",
   "metadata": {},
   "source": [
    " \n",
    "# Task 3: Handle missing values in your dataset. \n",
    "Handling missing values in the common task in the data pre-processing part. For many reasons most \n",
    "of the time we will encounter missing values. Without dealing with this we can't do the proper \n",
    "model building. You have already find out the missing value count in Task 2. Now, we decided how to \n",
    "handle them. We can handle this by removing affected columns or rows or replacing appropriate \n",
    "values there. \n",
    "Remove Columns: If there are a lot of values missing a column then it’s a good idea to drop/delete \n",
    "that column.  \n",
    "Drop column “Amount_spent” using df.drop(columns=[‘column name’], inplace=True) \n",
    "Or  \n",
    "df.drop(‘column name', axis=1, inplace=True) \n",
    " \n",
    "Remove Rows: If there are more missing values then it is better to remove rows.  \n",
    "Remove rows from data frame where Employee_status values are missing.  \n",
    "df.dropna(subset = [\"Employees_status\"], inplace=True)"
   ]
  },
  {
   "cell_type": "code",
   "execution_count": 129,
   "metadata": {},
   "outputs": [
    {
     "data": {
      "text/html": [
       "<div>\n",
       "<style scoped>\n",
       "    .dataframe tbody tr th:only-of-type {\n",
       "        vertical-align: middle;\n",
       "    }\n",
       "\n",
       "    .dataframe tbody tr th {\n",
       "        vertical-align: top;\n",
       "    }\n",
       "\n",
       "    .dataframe thead th {\n",
       "        text-align: right;\n",
       "    }\n",
       "</style>\n",
       "<table border=\"1\" class=\"dataframe\">\n",
       "  <thead>\n",
       "    <tr style=\"text-align: right;\">\n",
       "      <th></th>\n",
       "      <th>Transaction_date</th>\n",
       "      <th>Transaction_ID</th>\n",
       "      <th>Gender</th>\n",
       "      <th>Age</th>\n",
       "      <th>Marital_status</th>\n",
       "      <th>State_names</th>\n",
       "      <th>Segment</th>\n",
       "      <th>Employees_status</th>\n",
       "      <th>Payment_method</th>\n",
       "      <th>Referal</th>\n",
       "    </tr>\n",
       "  </thead>\n",
       "  <tbody>\n",
       "    <tr>\n",
       "      <th>0</th>\n",
       "      <td>1/1/2019</td>\n",
       "      <td>151200</td>\n",
       "      <td>Female</td>\n",
       "      <td>19.0</td>\n",
       "      <td>Single</td>\n",
       "      <td>Kansas</td>\n",
       "      <td>Basic</td>\n",
       "      <td>Unemployment</td>\n",
       "      <td>Other</td>\n",
       "      <td>1.0</td>\n",
       "    </tr>\n",
       "    <tr>\n",
       "      <th>1</th>\n",
       "      <td>1/1/2019</td>\n",
       "      <td>151201</td>\n",
       "      <td>Male</td>\n",
       "      <td>49.0</td>\n",
       "      <td>Single</td>\n",
       "      <td>Illinois</td>\n",
       "      <td>Basic</td>\n",
       "      <td>self-employed</td>\n",
       "      <td>Card</td>\n",
       "      <td>0.0</td>\n",
       "    </tr>\n",
       "    <tr>\n",
       "      <th>2</th>\n",
       "      <td>1/1/2019</td>\n",
       "      <td>151202</td>\n",
       "      <td>Male</td>\n",
       "      <td>63.0</td>\n",
       "      <td>Married</td>\n",
       "      <td>New Mexico</td>\n",
       "      <td>Basic</td>\n",
       "      <td>workers</td>\n",
       "      <td>PayPal</td>\n",
       "      <td>1.0</td>\n",
       "    </tr>\n",
       "    <tr>\n",
       "      <th>3</th>\n",
       "      <td>1/1/2019</td>\n",
       "      <td>151203</td>\n",
       "      <td>NaN</td>\n",
       "      <td>18.0</td>\n",
       "      <td>Single</td>\n",
       "      <td>Virginia</td>\n",
       "      <td>Platinum</td>\n",
       "      <td>workers</td>\n",
       "      <td>Card</td>\n",
       "      <td>1.0</td>\n",
       "    </tr>\n",
       "    <tr>\n",
       "      <th>4</th>\n",
       "      <td>1/1/2019</td>\n",
       "      <td>151204</td>\n",
       "      <td>Male</td>\n",
       "      <td>27.0</td>\n",
       "      <td>Single</td>\n",
       "      <td>Connecticut</td>\n",
       "      <td>Basic</td>\n",
       "      <td>self-employed</td>\n",
       "      <td>Card</td>\n",
       "      <td>0.0</td>\n",
       "    </tr>\n",
       "    <tr>\n",
       "      <th>...</th>\n",
       "      <td>...</td>\n",
       "      <td>...</td>\n",
       "      <td>...</td>\n",
       "      <td>...</td>\n",
       "      <td>...</td>\n",
       "      <td>...</td>\n",
       "      <td>...</td>\n",
       "      <td>...</td>\n",
       "      <td>...</td>\n",
       "      <td>...</td>\n",
       "    </tr>\n",
       "    <tr>\n",
       "      <th>2507</th>\n",
       "      <td>5/1/2021</td>\n",
       "      <td>153695</td>\n",
       "      <td>Female</td>\n",
       "      <td>57.0</td>\n",
       "      <td>Single</td>\n",
       "      <td>South Carolina</td>\n",
       "      <td>Platinum</td>\n",
       "      <td>self-employed</td>\n",
       "      <td>Card</td>\n",
       "      <td>0.0</td>\n",
       "    </tr>\n",
       "    <tr>\n",
       "      <th>2508</th>\n",
       "      <td>5/1/2021</td>\n",
       "      <td>153696</td>\n",
       "      <td>Female</td>\n",
       "      <td>36.0</td>\n",
       "      <td>Married</td>\n",
       "      <td>Hawaii</td>\n",
       "      <td>Silver</td>\n",
       "      <td>self-employed</td>\n",
       "      <td>PayPal</td>\n",
       "      <td>1.0</td>\n",
       "    </tr>\n",
       "    <tr>\n",
       "      <th>2509</th>\n",
       "      <td>5/1/2021</td>\n",
       "      <td>153697</td>\n",
       "      <td>Male</td>\n",
       "      <td>22.0</td>\n",
       "      <td>Single</td>\n",
       "      <td>South Carolina</td>\n",
       "      <td>Basic</td>\n",
       "      <td>workers</td>\n",
       "      <td>PayPal</td>\n",
       "      <td>1.0</td>\n",
       "    </tr>\n",
       "    <tr>\n",
       "      <th>2510</th>\n",
       "      <td>5/1/2021</td>\n",
       "      <td>153698</td>\n",
       "      <td>NaN</td>\n",
       "      <td>44.0</td>\n",
       "      <td>Single</td>\n",
       "      <td>New York</td>\n",
       "      <td>Basic</td>\n",
       "      <td>Employees</td>\n",
       "      <td>PayPal</td>\n",
       "      <td>0.0</td>\n",
       "    </tr>\n",
       "    <tr>\n",
       "      <th>2511</th>\n",
       "      <td>5/1/2021</td>\n",
       "      <td>153699</td>\n",
       "      <td>Male</td>\n",
       "      <td>48.0</td>\n",
       "      <td>Single</td>\n",
       "      <td>California</td>\n",
       "      <td>Silver</td>\n",
       "      <td>workers</td>\n",
       "      <td>PayPal</td>\n",
       "      <td>1.0</td>\n",
       "    </tr>\n",
       "  </tbody>\n",
       "</table>\n",
       "<p>2512 rows × 10 columns</p>\n",
       "</div>"
      ],
      "text/plain": [
       "     Transaction_date  Transaction_ID  Gender   Age Marital_status  \\\n",
       "0            1/1/2019          151200  Female  19.0         Single   \n",
       "1            1/1/2019          151201    Male  49.0         Single   \n",
       "2            1/1/2019          151202    Male  63.0        Married   \n",
       "3            1/1/2019          151203     NaN  18.0         Single   \n",
       "4            1/1/2019          151204    Male  27.0         Single   \n",
       "...               ...             ...     ...   ...            ...   \n",
       "2507         5/1/2021          153695  Female  57.0         Single   \n",
       "2508         5/1/2021          153696  Female  36.0        Married   \n",
       "2509         5/1/2021          153697    Male  22.0         Single   \n",
       "2510         5/1/2021          153698     NaN  44.0         Single   \n",
       "2511         5/1/2021          153699    Male  48.0         Single   \n",
       "\n",
       "         State_names   Segment Employees_status Payment_method  Referal  \n",
       "0             Kansas     Basic     Unemployment          Other      1.0  \n",
       "1           Illinois     Basic    self-employed           Card      0.0  \n",
       "2         New Mexico     Basic          workers         PayPal      1.0  \n",
       "3           Virginia  Platinum          workers           Card      1.0  \n",
       "4        Connecticut     Basic    self-employed           Card      0.0  \n",
       "...              ...       ...              ...            ...      ...  \n",
       "2507  South Carolina  Platinum    self-employed           Card      0.0  \n",
       "2508          Hawaii    Silver    self-employed         PayPal      1.0  \n",
       "2509  South Carolina     Basic          workers         PayPal      1.0  \n",
       "2510        New York     Basic        Employees         PayPal      0.0  \n",
       "2511      California    Silver          workers         PayPal      1.0  \n",
       "\n",
       "[2512 rows x 10 columns]"
      ]
     },
     "execution_count": 129,
     "metadata": {},
     "output_type": "execute_result"
    }
   ],
   "source": [
    "# Dropping Colum \n",
    "\n",
    "temp_df = fully_df.drop(columns=['Amount_spent'],axis=1)\n",
    "temp_df\n"
   ]
  },
  {
   "cell_type": "code",
   "execution_count": 130,
   "metadata": {},
   "outputs": [
    {
     "data": {
      "text/html": [
       "<div>\n",
       "<style scoped>\n",
       "    .dataframe tbody tr th:only-of-type {\n",
       "        vertical-align: middle;\n",
       "    }\n",
       "\n",
       "    .dataframe tbody tr th {\n",
       "        vertical-align: top;\n",
       "    }\n",
       "\n",
       "    .dataframe thead th {\n",
       "        text-align: right;\n",
       "    }\n",
       "</style>\n",
       "<table border=\"1\" class=\"dataframe\">\n",
       "  <thead>\n",
       "    <tr style=\"text-align: right;\">\n",
       "      <th></th>\n",
       "      <th>Transaction_date</th>\n",
       "      <th>Transaction_ID</th>\n",
       "      <th>Gender</th>\n",
       "      <th>Age</th>\n",
       "      <th>Marital_status</th>\n",
       "      <th>State_names</th>\n",
       "      <th>Segment</th>\n",
       "      <th>Employees_status</th>\n",
       "      <th>Payment_method</th>\n",
       "      <th>Referal</th>\n",
       "      <th>Amount_spent</th>\n",
       "    </tr>\n",
       "  </thead>\n",
       "  <tbody>\n",
       "    <tr>\n",
       "      <th>0</th>\n",
       "      <td>1/1/2019</td>\n",
       "      <td>151200</td>\n",
       "      <td>Female</td>\n",
       "      <td>19.0</td>\n",
       "      <td>Single</td>\n",
       "      <td>Kansas</td>\n",
       "      <td>Basic</td>\n",
       "      <td>Unemployment</td>\n",
       "      <td>Other</td>\n",
       "      <td>1.0</td>\n",
       "      <td>2051.36</td>\n",
       "    </tr>\n",
       "    <tr>\n",
       "      <th>1</th>\n",
       "      <td>1/1/2019</td>\n",
       "      <td>151201</td>\n",
       "      <td>Male</td>\n",
       "      <td>49.0</td>\n",
       "      <td>Single</td>\n",
       "      <td>Illinois</td>\n",
       "      <td>Basic</td>\n",
       "      <td>self-employed</td>\n",
       "      <td>Card</td>\n",
       "      <td>0.0</td>\n",
       "      <td>544.04</td>\n",
       "    </tr>\n",
       "    <tr>\n",
       "      <th>2</th>\n",
       "      <td>1/1/2019</td>\n",
       "      <td>151202</td>\n",
       "      <td>Male</td>\n",
       "      <td>63.0</td>\n",
       "      <td>Married</td>\n",
       "      <td>New Mexico</td>\n",
       "      <td>Basic</td>\n",
       "      <td>workers</td>\n",
       "      <td>PayPal</td>\n",
       "      <td>1.0</td>\n",
       "      <td>1572.60</td>\n",
       "    </tr>\n",
       "    <tr>\n",
       "      <th>3</th>\n",
       "      <td>1/1/2019</td>\n",
       "      <td>151203</td>\n",
       "      <td>NaN</td>\n",
       "      <td>18.0</td>\n",
       "      <td>Single</td>\n",
       "      <td>Virginia</td>\n",
       "      <td>Platinum</td>\n",
       "      <td>workers</td>\n",
       "      <td>Card</td>\n",
       "      <td>1.0</td>\n",
       "      <td>1199.79</td>\n",
       "    </tr>\n",
       "    <tr>\n",
       "      <th>4</th>\n",
       "      <td>1/1/2019</td>\n",
       "      <td>151204</td>\n",
       "      <td>Male</td>\n",
       "      <td>27.0</td>\n",
       "      <td>Single</td>\n",
       "      <td>Connecticut</td>\n",
       "      <td>Basic</td>\n",
       "      <td>self-employed</td>\n",
       "      <td>Card</td>\n",
       "      <td>0.0</td>\n",
       "      <td>NaN</td>\n",
       "    </tr>\n",
       "    <tr>\n",
       "      <th>...</th>\n",
       "      <td>...</td>\n",
       "      <td>...</td>\n",
       "      <td>...</td>\n",
       "      <td>...</td>\n",
       "      <td>...</td>\n",
       "      <td>...</td>\n",
       "      <td>...</td>\n",
       "      <td>...</td>\n",
       "      <td>...</td>\n",
       "      <td>...</td>\n",
       "      <td>...</td>\n",
       "    </tr>\n",
       "    <tr>\n",
       "      <th>2507</th>\n",
       "      <td>5/1/2021</td>\n",
       "      <td>153695</td>\n",
       "      <td>Female</td>\n",
       "      <td>57.0</td>\n",
       "      <td>Single</td>\n",
       "      <td>South Carolina</td>\n",
       "      <td>Platinum</td>\n",
       "      <td>self-employed</td>\n",
       "      <td>Card</td>\n",
       "      <td>0.0</td>\n",
       "      <td>150.10</td>\n",
       "    </tr>\n",
       "    <tr>\n",
       "      <th>2508</th>\n",
       "      <td>5/1/2021</td>\n",
       "      <td>153696</td>\n",
       "      <td>Female</td>\n",
       "      <td>36.0</td>\n",
       "      <td>Married</td>\n",
       "      <td>Hawaii</td>\n",
       "      <td>Silver</td>\n",
       "      <td>self-employed</td>\n",
       "      <td>PayPal</td>\n",
       "      <td>1.0</td>\n",
       "      <td>708.88</td>\n",
       "    </tr>\n",
       "    <tr>\n",
       "      <th>2509</th>\n",
       "      <td>5/1/2021</td>\n",
       "      <td>153697</td>\n",
       "      <td>Male</td>\n",
       "      <td>22.0</td>\n",
       "      <td>Single</td>\n",
       "      <td>South Carolina</td>\n",
       "      <td>Basic</td>\n",
       "      <td>workers</td>\n",
       "      <td>PayPal</td>\n",
       "      <td>1.0</td>\n",
       "      <td>2030.07</td>\n",
       "    </tr>\n",
       "    <tr>\n",
       "      <th>2510</th>\n",
       "      <td>5/1/2021</td>\n",
       "      <td>153698</td>\n",
       "      <td>NaN</td>\n",
       "      <td>44.0</td>\n",
       "      <td>Single</td>\n",
       "      <td>New York</td>\n",
       "      <td>Basic</td>\n",
       "      <td>Employees</td>\n",
       "      <td>PayPal</td>\n",
       "      <td>0.0</td>\n",
       "      <td>1909.77</td>\n",
       "    </tr>\n",
       "    <tr>\n",
       "      <th>2511</th>\n",
       "      <td>5/1/2021</td>\n",
       "      <td>153699</td>\n",
       "      <td>Male</td>\n",
       "      <td>48.0</td>\n",
       "      <td>Single</td>\n",
       "      <td>California</td>\n",
       "      <td>Silver</td>\n",
       "      <td>workers</td>\n",
       "      <td>PayPal</td>\n",
       "      <td>1.0</td>\n",
       "      <td>1073.15</td>\n",
       "    </tr>\n",
       "  </tbody>\n",
       "</table>\n",
       "<p>2486 rows × 11 columns</p>\n",
       "</div>"
      ],
      "text/plain": [
       "     Transaction_date  Transaction_ID  Gender   Age Marital_status  \\\n",
       "0            1/1/2019          151200  Female  19.0         Single   \n",
       "1            1/1/2019          151201    Male  49.0         Single   \n",
       "2            1/1/2019          151202    Male  63.0        Married   \n",
       "3            1/1/2019          151203     NaN  18.0         Single   \n",
       "4            1/1/2019          151204    Male  27.0         Single   \n",
       "...               ...             ...     ...   ...            ...   \n",
       "2507         5/1/2021          153695  Female  57.0         Single   \n",
       "2508         5/1/2021          153696  Female  36.0        Married   \n",
       "2509         5/1/2021          153697    Male  22.0         Single   \n",
       "2510         5/1/2021          153698     NaN  44.0         Single   \n",
       "2511         5/1/2021          153699    Male  48.0         Single   \n",
       "\n",
       "         State_names   Segment Employees_status Payment_method  Referal  \\\n",
       "0             Kansas     Basic     Unemployment          Other      1.0   \n",
       "1           Illinois     Basic    self-employed           Card      0.0   \n",
       "2         New Mexico     Basic          workers         PayPal      1.0   \n",
       "3           Virginia  Platinum          workers           Card      1.0   \n",
       "4        Connecticut     Basic    self-employed           Card      0.0   \n",
       "...              ...       ...              ...            ...      ...   \n",
       "2507  South Carolina  Platinum    self-employed           Card      0.0   \n",
       "2508          Hawaii    Silver    self-employed         PayPal      1.0   \n",
       "2509  South Carolina     Basic          workers         PayPal      1.0   \n",
       "2510        New York     Basic        Employees         PayPal      0.0   \n",
       "2511      California    Silver          workers         PayPal      1.0   \n",
       "\n",
       "      Amount_spent  \n",
       "0          2051.36  \n",
       "1           544.04  \n",
       "2          1572.60  \n",
       "3          1199.79  \n",
       "4              NaN  \n",
       "...            ...  \n",
       "2507        150.10  \n",
       "2508        708.88  \n",
       "2509       2030.07  \n",
       "2510       1909.77  \n",
       "2511       1073.15  \n",
       "\n",
       "[2486 rows x 11 columns]"
      ]
     },
     "execution_count": 130,
     "metadata": {},
     "output_type": "execute_result"
    }
   ],
   "source": [
    "# Dropping data now\n",
    "\n",
    "fully_df = pd.read_csv('online_store_customer_data.csv')\n",
    "\n",
    "temp_df = fully_df.dropna(subset=['Employees_status'])\n",
    "temp_df"
   ]
  },
  {
   "cell_type": "markdown",
   "metadata": {},
   "source": [
    "# Impute/Replace Missing Values: Most of the time, we can’t afford to delete rows or columns.\n",
    "It’s always better to replace missing values rather than deleting data. We will learn how to replace \n",
    "missing values for both numeric and categorical features. \n",
    "a) Numeric: For numerical features, we can replace the missing values with 0 or mean value. \n",
    "Replace Amount_spent missing values with the mean value of amount_spent. \n",
    "• First find the mean value of column “Amount_spent”. \n",
    "mean_amount_spent = df['Amount_spent'].mean() \n",
    "• Replace the missing value by using function fillna. \n",
    "  df['Amount_spent'].fillna(mean_amount_spent, inplace=True) \n",
    "• Try your code to replace missing values in Age with the mean age value"
   ]
  },
  {
   "cell_type": "code",
   "execution_count": 131,
   "metadata": {},
   "outputs": [
    {
     "data": {
      "text/plain": [
       "1418.4225770925111"
      ]
     },
     "execution_count": 131,
     "metadata": {},
     "output_type": "execute_result"
    }
   ],
   "source": [
    "fully_df = pd.read_csv('online_store_customer_data.csv')\n",
    "\n",
    "means_values = fully_df['Amount_spent'].mean()\n",
    "means_values"
   ]
  },
  {
   "cell_type": "code",
   "execution_count": 132,
   "metadata": {},
   "outputs": [
    {
     "data": {
      "text/plain": [
       "0       2051.360000\n",
       "1        544.040000\n",
       "2       1572.600000\n",
       "3       1199.790000\n",
       "4       1418.422577\n",
       "           ...     \n",
       "2507     150.100000\n",
       "2508     708.880000\n",
       "2509    2030.070000\n",
       "2510    1909.770000\n",
       "2511    1073.150000\n",
       "Name: Amount_spent, Length: 2512, dtype: float64"
      ]
     },
     "execution_count": 132,
     "metadata": {},
     "output_type": "execute_result"
    }
   ],
   "source": [
    "#Replace the missing value by using function fillna.\n",
    "\n",
    "\n",
    "temp_df = fully_df['Amount_spent'].fillna(means_values)\n",
    "temp_df"
   ]
  },
  {
   "cell_type": "code",
   "execution_count": 133,
   "metadata": {},
   "outputs": [
    {
     "data": {
      "text/plain": [
       "46.63765182186235"
      ]
     },
     "execution_count": 133,
     "metadata": {},
     "output_type": "execute_result"
    }
   ],
   "source": [
    "# mean age\n",
    "\n",
    "temp_df = fully_df['Age'].mean()\n",
    "temp_df"
   ]
  },
  {
   "cell_type": "code",
   "execution_count": 134,
   "metadata": {},
   "outputs": [
    {
     "data": {
      "text/plain": [
       "0       19.0\n",
       "1       49.0\n",
       "2       63.0\n",
       "3       18.0\n",
       "4       27.0\n",
       "        ... \n",
       "2507    57.0\n",
       "2508    36.0\n",
       "2509    22.0\n",
       "2510    44.0\n",
       "2511    48.0\n",
       "Name: Age, Length: 2512, dtype: float64"
      ]
     },
     "execution_count": 134,
     "metadata": {},
     "output_type": "execute_result"
    }
   ],
   "source": [
    "# Replacing empty places with mean\n",
    "\n",
    "temp_df = fully_df['Age'].fillna(means_values)\n",
    "temp_df"
   ]
  },
  {
   "cell_type": "markdown",
   "metadata": {},
   "source": [
    "# b) Categorical Features: \n",
    " \n",
    "• Missing values in Categorical Features could be replace with either ‘Unknown’ or mode \n",
    "value. \n",
    "• Replace missing values in “Employee_status” with the mode value of the column \n",
    "“Employee_status”. \n",
    "First find the mode value using function mode. \n",
    "# Impute Mode in Employees_status column \n",
    "mode_emp = df['Employees_status'].mode().iloc[0] \n",
    " \n",
    "NOTE: If there are multiple mode values, df['Employees_status'].mode() will return a Series \n",
    "containing all the mode values. Using iloc[0] ensures that you're selecting the first value from \n",
    "this Series, which avoids an error. This is because pandas expects a single scalar value for \n",
    "replacing missing data, not a list or Series. \n",
    " \n",
    "Replace missing values with mode value using function fillna() \n",
    "df['Employees_status'].fillna(mode_emp, inplace=True) \n",
    " \n",
    "• Try your code to replace the missing values in Gender. "
   ]
  },
  {
   "cell_type": "code",
   "execution_count": 135,
   "metadata": {},
   "outputs": [
    {
     "data": {
      "text/plain": [
       "'Employees'"
      ]
     },
     "execution_count": 135,
     "metadata": {},
     "output_type": "execute_result"
    }
   ],
   "source": [
    "mode_emp = fully_df['Employees_status'].mode().iloc[0]\n",
    "mode_emp"
   ]
  },
  {
   "cell_type": "code",
   "execution_count": 137,
   "metadata": {},
   "outputs": [
    {
     "data": {
      "text/plain": [
       "0        Unemployment\n",
       "1       self-employed\n",
       "2             workers\n",
       "3             workers\n",
       "4       self-employed\n",
       "            ...      \n",
       "2507    self-employed\n",
       "2508    self-employed\n",
       "2509          workers\n",
       "2510        Employees\n",
       "2511          workers\n",
       "Name: Employees_status, Length: 2512, dtype: object"
      ]
     },
     "execution_count": 137,
     "metadata": {},
     "output_type": "execute_result"
    }
   ],
   "source": [
    "temp = fully_df['Employees_status'].fillna(mode_emp)\n",
    "temp\n"
   ]
  },
  {
   "cell_type": "code",
   "execution_count": 139,
   "metadata": {},
   "outputs": [
    {
     "data": {
      "text/plain": [
       "'Female'"
      ]
     },
     "execution_count": 139,
     "metadata": {},
     "output_type": "execute_result"
    }
   ],
   "source": [
    "mode_emp = fully_df['Gender'].mode().iloc[0]\n",
    "mode_emp"
   ]
  },
  {
   "cell_type": "code",
   "execution_count": 140,
   "metadata": {},
   "outputs": [
    {
     "data": {
      "text/plain": [
       "0       Female\n",
       "1         Male\n",
       "2         Male\n",
       "3       Female\n",
       "4         Male\n",
       "         ...  \n",
       "2507    Female\n",
       "2508    Female\n",
       "2509      Male\n",
       "2510    Female\n",
       "2511      Male\n",
       "Name: Gender, Length: 2512, dtype: object"
      ]
     },
     "execution_count": 140,
     "metadata": {},
     "output_type": "execute_result"
    }
   ],
   "source": [
    "# Gender mode\n",
    "temp = fully_df['Gender'].fillna(mode_emp)\n",
    "temp"
   ]
  }
 ],
 "metadata": {
  "kernelspec": {
   "display_name": "base",
   "language": "python",
   "name": "python3"
  },
  "language_info": {
   "codemirror_mode": {
    "name": "ipython",
    "version": 3
   },
   "file_extension": ".py",
   "mimetype": "text/x-python",
   "name": "python",
   "nbconvert_exporter": "python",
   "pygments_lexer": "ipython3",
   "version": "3.12.4"
  }
 },
 "nbformat": 4,
 "nbformat_minor": 2
}
