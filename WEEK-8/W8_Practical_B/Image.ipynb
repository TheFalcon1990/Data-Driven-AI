{
 "cells": [
  {
   "cell_type": "code",
   "execution_count": null,
   "metadata": {
    "vscode": {
     "languageId": "plaintext"
    }
   },
   "outputs": [],
   "source": [
    "\n",
    "import cv2\n",
    "import numpy as np\n",
    "import matplotlib.pyplot as plt\n",
    "from os import walk\n",
    "import os\n",
    "import glob\n",
    "import tensorflow as tf\n",
    "# Define the path to your folder containing images\n",
    "folder_path = \"Stage 8_Dry thoroughly with clean towel or paper towel\"         # Replace with the path to your folder\n",
    "\n",
    "# Create a new folder to save the resized images\n",
    "output_folder = 'Resized_Images/Resized_Stage 8_Dry thoroughly with clean towel or paper towel'             # Replace with the path for saving resized images\n",
    "os.makedirs(output_folder, exist_ok=True)\n",
    "\n",
    "# Loop through each image in the folder\n",
    "for filename in os.listdir(folder_path):\n",
    "    if filename.endswith(('.jpg', '.jpeg', '.png')): \n",
    "       # Read the image\n",
    "        image_path = os.path.join(folder_path, filename)\n",
    "        image = cv2.imread(image_path)\n",
    "\n",
    "        # Resize the image to 150x150\n",
    "        resized_image = cv2.resize(image, (150, 150))\n",
    "\n",
    "        # Save the resized image in the output folder\n",
    "        output_path = os.path.join(output_folder, filename)\n",
    "        cv2.imwrite(output_path, resized_image)\n",
    "\n",
    "        print(f\"Resized and saved {filename}\")"
   ]
  }
 ],
 "metadata": {
  "language_info": {
   "name": "python"
  }
 },
 "nbformat": 4,
 "nbformat_minor": 2
}
